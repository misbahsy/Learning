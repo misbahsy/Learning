{
  "nbformat": 4,
  "nbformat_minor": 0,
  "metadata": {
    "colab": {
      "name": "Gaussian Processes.ipynb",
      "provenance": [],
      "authorship_tag": "ABX9TyNMR/Sb5uZyZ09uptuMrysW",
      "include_colab_link": true
    },
    "kernelspec": {
      "name": "python3",
      "display_name": "Python 3"
    }
  },
  "cells": [
    {
      "cell_type": "markdown",
      "metadata": {
        "id": "view-in-github",
        "colab_type": "text"
      },
      "source": [
        "<a href=\"https://colab.research.google.com/github/misbahsy/Learning/blob/master/Gaussian_Processes.ipynb\" target=\"_parent\"><img src=\"https://colab.research.google.com/assets/colab-badge.svg\" alt=\"Open In Colab\"/></a>"
      ]
    },
    {
      "cell_type": "code",
      "metadata": {
        "colab": {
          "base_uri": "https://localhost:8080/"
        },
        "id": "i7-BTVgBdzUw",
        "outputId": "ff6ff1b9-adc6-4feb-b8eb-c88e5d798ee8"
      },
      "source": [
        "import numpy as np\n",
        "import matplotlib.pyplot as plt\n",
        "\n",
        "#test data\n",
        "n= 50 \n",
        "Xtest = np.linspace(-5, 5, n).reshape(-1,1)\n",
        "Xtest"
      ],
      "execution_count": 2,
      "outputs": [
        {
          "output_type": "execute_result",
          "data": {
            "text/plain": [
              "array([[-5.        ],\n",
              "       [-4.79591837],\n",
              "       [-4.59183673],\n",
              "       [-4.3877551 ],\n",
              "       [-4.18367347],\n",
              "       [-3.97959184],\n",
              "       [-3.7755102 ],\n",
              "       [-3.57142857],\n",
              "       [-3.36734694],\n",
              "       [-3.16326531],\n",
              "       [-2.95918367],\n",
              "       [-2.75510204],\n",
              "       [-2.55102041],\n",
              "       [-2.34693878],\n",
              "       [-2.14285714],\n",
              "       [-1.93877551],\n",
              "       [-1.73469388],\n",
              "       [-1.53061224],\n",
              "       [-1.32653061],\n",
              "       [-1.12244898],\n",
              "       [-0.91836735],\n",
              "       [-0.71428571],\n",
              "       [-0.51020408],\n",
              "       [-0.30612245],\n",
              "       [-0.10204082],\n",
              "       [ 0.10204082],\n",
              "       [ 0.30612245],\n",
              "       [ 0.51020408],\n",
              "       [ 0.71428571],\n",
              "       [ 0.91836735],\n",
              "       [ 1.12244898],\n",
              "       [ 1.32653061],\n",
              "       [ 1.53061224],\n",
              "       [ 1.73469388],\n",
              "       [ 1.93877551],\n",
              "       [ 2.14285714],\n",
              "       [ 2.34693878],\n",
              "       [ 2.55102041],\n",
              "       [ 2.75510204],\n",
              "       [ 2.95918367],\n",
              "       [ 3.16326531],\n",
              "       [ 3.36734694],\n",
              "       [ 3.57142857],\n",
              "       [ 3.7755102 ],\n",
              "       [ 3.97959184],\n",
              "       [ 4.18367347],\n",
              "       [ 4.3877551 ],\n",
              "       [ 4.59183673],\n",
              "       [ 4.79591837],\n",
              "       [ 5.        ]])"
            ]
          },
          "metadata": {
            "tags": []
          },
          "execution_count": 2
        }
      ]
    },
    {
      "cell_type": "code",
      "metadata": {
        "colab": {
          "base_uri": "https://localhost:8080/"
        },
        "id": "jsJteLm9eOnb",
        "outputId": "c63ab5f5-b3c4-42d7-f3f8-75d1cac2c10e"
      },
      "source": [
        "#Define the kernel function\n",
        "def kernel(a, b, param):\n",
        "  sqdist = np.sum(a**2, 1).reshape(-1,1)+np.sum(b**2, 1) -2*np.dot(a,b.T)\n",
        "  return np.exp(-.5 * (1/param) * sqdist)\n",
        "\n",
        "param = 0.1\n",
        "K_ss = kernel(Xtest, Xtest, param)\n",
        "K_ss"
      ],
      "execution_count": 3,
      "outputs": [
        {
          "output_type": "execute_result",
          "data": {
            "text/plain": [
              "array([[1.00000000e+000, 8.12006800e-001, 4.34749074e-001, ...,\n",
              "        1.64931306e-200, 4.22154484e-209, 7.12457641e-218],\n",
              "       [8.12006800e-001, 1.00000000e+000, 8.12006800e-001, ...,\n",
              "        4.24868097e-192, 1.64931306e-200, 4.22154484e-209],\n",
              "       [4.34749074e-001, 8.12006800e-001, 1.00000000e+000, ...,\n",
              "        7.21646448e-184, 4.24868097e-192, 1.64931306e-200],\n",
              "       ...,\n",
              "       [1.64931306e-200, 4.24868097e-192, 7.21646448e-184, ...,\n",
              "        1.00000000e+000, 8.12006800e-001, 4.34749074e-001],\n",
              "       [4.22154484e-209, 1.64931306e-200, 4.24868097e-192, ...,\n",
              "        8.12006800e-001, 1.00000000e+000, 8.12006800e-001],\n",
              "       [7.12457641e-218, 4.22154484e-209, 1.64931306e-200, ...,\n",
              "        4.34749074e-001, 8.12006800e-001, 1.00000000e+000]])"
            ]
          },
          "metadata": {
            "tags": []
          },
          "execution_count": 3
        }
      ]
    },
    {
      "cell_type": "code",
      "metadata": {
        "colab": {
          "base_uri": "https://localhost:8080/"
        },
        "id": "UhjtLQsdfcWw",
        "outputId": "43119e89-fc9a-479a-c3cf-6787e5b93ffd"
      },
      "source": [
        "# Get cholesky decomposition (square root) of the\n",
        "# covariance matrix\n",
        "L = np.linalg.cholesky(K_ss + 1e-15 *np.eye(n))\n",
        "L"
      ],
      "execution_count": 5,
      "outputs": [
        {
          "output_type": "execute_result",
          "data": {
            "text/plain": [
              "array([[1.00000000e+000, 0.00000000e+000, 0.00000000e+000, ...,\n",
              "        0.00000000e+000, 0.00000000e+000, 0.00000000e+000],\n",
              "       [8.12006800e-001, 5.83647973e-001, 0.00000000e+000, ...,\n",
              "        0.00000000e+000, 0.00000000e+000, 0.00000000e+000],\n",
              "       [4.34749074e-001, 7.86411702e-001, 4.38805056e-001, ...,\n",
              "        0.00000000e+000, 0.00000000e+000, 0.00000000e+000],\n",
              "       ...,\n",
              "       [1.64931306e-200, 7.27952663e-192, 1.64457185e-183, ...,\n",
              "        2.75925105e-001, 0.00000000e+000, 0.00000000e+000],\n",
              "       [4.22154484e-209, 2.82586959e-200, 9.68238833e-192, ...,\n",
              "        6.57731921e-001, 2.75925105e-001, 0.00000000e+000],\n",
              "       [7.12457641e-218, 7.23303264e-209, 3.75864643e-200, ...,\n",
              "        6.22997976e-001, 6.57731921e-001, 2.75925105e-001]])"
            ]
          },
          "metadata": {
            "tags": []
          },
          "execution_count": 5
        }
      ]
    },
    {
      "cell_type": "code",
      "metadata": {
        "colab": {
          "base_uri": "https://localhost:8080/"
        },
        "id": "o2VCW0Qnf0cb",
        "outputId": "dad4858f-4dd3-4706-b6ac-46867e86f058"
      },
      "source": [
        "# Sample 3 sets of standard normals for our test points,\n",
        "# multiply them by the square root of the covariance matrix\n",
        "f_prior = np.dot(L, np.random.normal(size=(n,3)))\n",
        "f_prior"
      ],
      "execution_count": 6,
      "outputs": [
        {
          "output_type": "execute_result",
          "data": {
            "text/plain": [
              "array([[-1.15997253e-01,  3.80559013e-01,  1.24748628e+00],\n",
              "       [-4.40598224e-01, -7.37883330e-02,  2.44524306e+00],\n",
              "       [-3.16867247e-01, -4.81702081e-01,  2.89357309e+00],\n",
              "       [ 6.61696343e-02, -6.92266218e-01,  1.97307174e+00],\n",
              "       [ 4.69855295e-02,  1.27488589e-01, -1.26049440e-01],\n",
              "       [ 1.88202556e-01,  1.30576935e+00, -1.54964595e+00],\n",
              "       [ 5.50166704e-01,  1.16210777e+00, -7.07379172e-01],\n",
              "       [ 4.90651838e-01,  1.92662828e-01,  1.06066931e+00],\n",
              "       [-4.78812444e-01, -3.82131514e-01,  2.19370532e+00],\n",
              "       [-1.38535322e+00, -3.60706870e-01,  2.13591781e+00],\n",
              "       [-1.27473049e+00,  6.78010655e-01,  1.28095324e+00],\n",
              "       [-1.06153625e+00,  1.96975832e+00,  6.71481146e-01],\n",
              "       [-1.29891737e+00,  1.55557920e+00,  5.51663462e-01],\n",
              "       [-9.69033986e-01,  2.77046729e-01,  5.34565988e-01],\n",
              "       [ 6.27539512e-04, -2.03616103e-01,  8.97963843e-01],\n",
              "       [ 7.83516399e-01,  1.42919007e-01,  1.57131259e+00],\n",
              "       [ 9.67006030e-01,  7.32324698e-01,  1.66293641e+00],\n",
              "       [ 8.15618843e-01,  1.08216037e+00,  1.25944682e+00],\n",
              "       [ 9.37391917e-01,  1.30150171e+00,  5.52547408e-01],\n",
              "       [ 5.63163283e-01,  1.21804272e+00, -4.79906077e-01],\n",
              "       [-4.51057204e-01,  5.09924441e-01, -1.30702884e+00],\n",
              "       [-7.31850688e-01, -2.30436286e-01, -1.00181501e+00],\n",
              "       [-1.90379671e-01, -4.24994351e-01,  7.46667319e-02],\n",
              "       [ 3.00456427e-02,  3.76893001e-01,  1.53178505e-01],\n",
              "       [-2.68137735e-01,  1.63901074e+00, -4.68349711e-01],\n",
              "       [-8.51999909e-02,  1.87537847e+00, -3.52460232e-01],\n",
              "       [ 5.10132458e-01,  1.44092377e+00,  7.19857465e-01],\n",
              "       [ 8.12411852e-01,  1.60894636e+00,  1.28471738e+00],\n",
              "       [ 8.59526147e-01,  1.49968569e+00,  7.49011133e-01],\n",
              "       [ 4.97878371e-01,  6.19725854e-01,  3.22179136e-01],\n",
              "       [ 3.85196508e-01, -2.23912466e-01,  1.57754193e-01],\n",
              "       [ 8.52488456e-01, -8.96465716e-01, -6.07838849e-02],\n",
              "       [ 1.09360355e+00, -1.37015819e+00, -3.31219023e-01],\n",
              "       [ 8.95672730e-01, -1.16226308e+00, -9.46525890e-01],\n",
              "       [ 6.19194708e-01, -6.59329955e-01, -1.76955412e+00],\n",
              "       [ 4.58578108e-01, -8.82825611e-01, -1.80013465e+00],\n",
              "       [ 4.27218239e-01, -1.58112816e+00, -6.57032923e-01],\n",
              "       [ 4.76462338e-01, -1.75004647e+00,  4.07178102e-01],\n",
              "       [ 8.73318137e-01, -1.51567958e+00,  6.64522127e-01],\n",
              "       [ 1.52654205e+00, -9.77409883e-01,  1.07379013e+00],\n",
              "       [ 1.98270893e+00, -3.96969954e-01,  1.59525648e+00],\n",
              "       [ 2.18726034e+00,  2.58063962e-02,  1.41291096e+00],\n",
              "       [ 2.02146670e+00,  4.65520295e-01,  1.30332917e+00],\n",
              "       [ 1.45937840e+00,  4.15913429e-01,  1.53358389e+00],\n",
              "       [ 1.15110483e+00, -1.77745764e-01,  1.41596236e+00],\n",
              "       [ 9.56751118e-01, -8.32186819e-01,  8.11316216e-01],\n",
              "       [ 6.67445641e-01, -9.50755828e-01,  9.77463295e-02],\n",
              "       [ 1.00435504e+00, -4.46650930e-01, -6.26546709e-01],\n",
              "       [ 1.27987612e+00, -1.11506451e-01, -1.50977361e+00],\n",
              "       [ 1.07476762e+00,  1.02695612e-01, -2.15466251e+00]])"
            ]
          },
          "metadata": {
            "tags": []
          },
          "execution_count": 6
        }
      ]
    },
    {
      "cell_type": "code",
      "metadata": {
        "colab": {
          "base_uri": "https://localhost:8080/",
          "height": 281
        },
        "id": "2ciPCXCugXti",
        "outputId": "18489b8d-2341-4dfc-c6b6-68365af8aa76"
      },
      "source": [
        "#Now let's plot the 3 sampled functions.\n",
        "plt.plot(Xtest, f_prior)\n",
        "plt.axis([-5, 5, -3, 3])\n",
        "plt.title('Three samples from the GP prior')\n",
        "plt.show()"
      ],
      "execution_count": 8,
      "outputs": [
        {
          "output_type": "display_data",
          "data": {
            "image/png": "[encoded data removed]",
            "text/plain": [
              "<Figure size 432x288 with 1 Axes>"
            ]
          },
          "metadata": {
            "tags": [],
            "needs_background": "light"
          }
        }
      ]
    },
    {
      "cell_type": "code",
      "metadata": {
        "colab": {
          "base_uri": "https://localhost:8080/"
        },
        "id": "Sud_YmpVg1rH",
        "outputId": "00aa4d20-c017-4ab3-a85d-64a89d384196"
      },
      "source": [
        "#Noiseless training data\n",
        "Xtrain = np.array([-4, -3,-2,-1, 1]).reshape(5,1)\n",
        "Xtrain"
      ],
      "execution_count": 9,
      "outputs": [
        {
          "output_type": "execute_result",
          "data": {
            "text/plain": [
              "array([[-4],\n",
              "       [-3],\n",
              "       [-2],\n",
              "       [-1],\n",
              "       [ 1]])"
            ]
          },
          "metadata": {
            "tags": []
          },
          "execution_count": 9
        }
      ]
    },
    {
      "cell_type": "code",
      "metadata": {
        "colab": {
          "base_uri": "https://localhost:8080/"
        },
        "id": "whtzLscRhlUJ",
        "outputId": "713f5aa5-8568-4b91-a0c5-a056aefea6e9"
      },
      "source": [
        "ytrain=  np.sin(Xtrain)\n",
        "ytrain"
      ],
      "execution_count": 10,
      "outputs": [
        {
          "output_type": "execute_result",
          "data": {
            "text/plain": [
              "array([[ 0.7568025 ],\n",
              "       [-0.14112001],\n",
              "       [-0.90929743],\n",
              "       [-0.84147098],\n",
              "       [ 0.84147098]])"
            ]
          },
          "metadata": {
            "tags": []
          },
          "execution_count": 10
        }
      ]
    },
    {
      "cell_type": "code",
      "metadata": {
        "colab": {
          "base_uri": "https://localhost:8080/"
        },
        "id": "YsC3T2blhqPU",
        "outputId": "264c5188-5bb6-4dd6-8100-348607089b9a"
      },
      "source": [
        "#Apply the kernel fuction to our training points\n",
        "K = kernel(Xtrain, Xtrain, param)\n",
        "L = np.linalg.cholesky(K + 0.00005* np.eye(len(Xtrain)))\n",
        "L"
      ],
      "execution_count": 12,
      "outputs": [
        {
          "output_type": "execute_result",
          "data": {
            "text/plain": [
              "array([[1.00002500e+00, 0.00000000e+00, 0.00000000e+00, 0.00000000e+00,\n",
              "        0.00000000e+00],\n",
              "       [6.73777856e-03, 1.00000230e+00, 0.00000000e+00, 0.00000000e+00,\n",
              "        0.00000000e+00],\n",
              "       [2.06110210e-09, 6.73793148e-03, 1.00000230e+00, 0.00000000e+00,\n",
              "        0.00000000e+00],\n",
              "       [2.86244702e-20, 2.06114888e-09, 6.73793149e-03, 1.00000230e+00,\n",
              "        0.00000000e+00],\n",
              "       [5.16629148e-55, 1.80484723e-35, 2.86251200e-20, 2.06114888e-09,\n",
              "        1.00002500e+00]])"
            ]
          },
          "metadata": {
            "tags": []
          },
          "execution_count": 12
        }
      ]
    },
    {
      "cell_type": "code",
      "metadata": {
        "colab": {
          "base_uri": "https://localhost:8080/"
        },
        "id": "IuvwsRB6h_Zv",
        "outputId": "6bce49dc-d7e3-48fe-d35c-89638a15268c"
      },
      "source": [
        "#Comput the mean at our test points\n",
        "K_s = kernel(Xtrain, Xtest, param)\n",
        "Lk  = np.linalg.solve(L, K_s)\n",
        "mu = np.dot(Lk.T, np.linalg.solve(L, ytrain)).reshape((n,))\n",
        "mu"
      ],
      "execution_count": 13,
      "outputs": [
        {
          "output_type": "execute_result",
          "data": {
            "text/plain": [
              "array([ 5.10540173e-03,  3.19083754e-02,  1.31491504e-01,  3.57274111e-01,\n",
              "        6.39969745e-01,  7.54976985e-01,  5.82010091e-01,  2.75066805e-01,\n",
              "        3.09667437e-02, -1.00823960e-01, -1.44679534e-01, -1.55669988e-01,\n",
              "       -2.48929713e-01, -5.11201872e-01, -8.19888846e-01, -8.96610717e-01,\n",
              "       -6.91126635e-01, -5.04395528e-01, -5.83624860e-01, -7.94211545e-01,\n",
              "       -8.10572835e-01, -5.55629336e-01, -2.51731755e-01, -7.50618566e-02,\n",
              "       -1.28833260e-02,  1.30052570e-02,  7.56102349e-02,  2.53550896e-01,\n",
              "        5.59440765e-01,  8.13854884e-01,  7.80654580e-01,  4.93730752e-01,\n",
              "        2.05892619e-01,  5.66122882e-02,  1.02636060e-02,  1.22689832e-03,\n",
              "        9.67022326e-05,  5.02555192e-06,  1.72206825e-07,  3.89077654e-09,\n",
              "        5.79617581e-11,  5.69332721e-13,  3.68731357e-15,  1.57461118e-17,\n",
              "        4.43359403e-20,  8.23109946e-23,  1.00757900e-25,  8.13241811e-29,\n",
              "        4.32792397e-32,  1.51865415e-35])"
            ]
          },
          "metadata": {
            "tags": []
          },
          "execution_count": 13
        }
      ]
    },
    {
      "cell_type": "code",
      "metadata": {
        "colab": {
          "base_uri": "https://localhost:8080/"
        },
        "id": "7gzpJgasiu07",
        "outputId": "22232b67-3ede-4ff9-c8b4-9d82f7cd623c"
      },
      "source": [
        "#Compute the standard deviation so we can plot it\n",
        "s2 = np.diag(K_ss) - np.sum(Lk**2, axis=0)\n",
        "stdv  = np.sqrt(s2)\n",
        "\n",
        "stdv"
      ],
      "execution_count": 14,
      "outputs": [
        {
          "output_type": "execute_result",
          "data": {
            "text/plain": [
              "array([0.9999773 , 0.99911291, 0.98482709, 0.88185022, 0.53512662,\n",
              "       0.06483626, 0.62764722, 0.89639736, 0.85044798, 0.48312813,\n",
              "       0.12866441, 0.66952958, 0.90545292, 0.82868417, 0.42924457,\n",
              "       0.19182893, 0.70811599, 0.91146737, 0.80361233, 0.37290176,\n",
              "       0.25396967, 0.74696167, 0.9535155 , 0.99593676, 0.99983989,\n",
              "       0.9998399 , 0.99593694, 0.95351763, 0.7469736 , 0.2539957 ,\n",
              "       0.37320408, 0.80975953, 0.96960189, 0.99773417, 0.99992561,\n",
              "       0.99999894, 0.99999999, 1.        , 1.        , 1.        ,\n",
              "       1.        , 1.        , 1.        , 1.        , 1.        ,\n",
              "       1.        , 1.        , 1.        , 1.        , 1.        ])"
            ]
          },
          "metadata": {
            "tags": []
          },
          "execution_count": 14
        }
      ]
    },
    {
      "cell_type": "code",
      "metadata": {
        "colab": {
          "base_uri": "https://localhost:8080/"
        },
        "id": "TK37MVDGjN2_",
        "outputId": "58143330-35f5-4f74-a650-154115d54eb2"
      },
      "source": [
        "#Draw samples from the poterior at our test points\n",
        "L = np.linalg.cholesky(K_ss + 1e-6*np.eye(n) - np.dot(Lk.T, Lk))\n",
        "f_post = mu.reshape(-1, 1) + np.dot(L, np.random.normal(size=(n,3)))\n",
        "f_post"
      ],
      "execution_count": 16,
      "outputs": [
        {
          "output_type": "execute_result",
          "data": {
            "text/plain": [
              "array([[ 0.03186428, -1.08436819, -1.18104303],\n",
              "       [ 0.21327032, -0.1816052 , -1.33821287],\n",
              "       [ 0.01805702,  0.92838786, -0.78053319],\n",
              "       [-0.44189983,  1.38624635,  0.58738321],\n",
              "       [-0.19330123,  1.18713195,  1.25916333],\n",
              "       [ 0.8565533 ,  0.70532211,  0.68772319],\n",
              "       [ 1.54365183,  0.32969879,  0.16830923],\n",
              "       [ 1.09460547,  0.07817108,  0.42411983],\n",
              "       [ 0.09600793, -0.2182034 ,  0.73272107],\n",
              "       [-0.33932855, -0.36547405,  0.39787541],\n",
              "       [-0.03515658, -0.10210387, -0.2776577 ],\n",
              "       [ 0.46473326, -0.375779  , -1.01673895],\n",
              "       [ 0.68824712, -1.07098807, -1.50937986],\n",
              "       [ 0.34614051, -1.09731598, -1.59002699],\n",
              "       [-0.50135434, -1.01058847, -1.43783948],\n",
              "       [-0.98492539, -0.84421993, -0.59143778],\n",
              "       [-0.93963258, -0.73474963,  0.24948081],\n",
              "       [-0.90145429, -0.81068703,  0.09121095],\n",
              "       [-1.01152076, -0.50405906, -0.89164347],\n",
              "       [-1.0963992 , -0.60265781, -1.25683337],\n",
              "       [-0.53992356, -0.92957038, -0.46099201],\n",
              "       [ 0.18343395, -0.88864244,  0.25138408],\n",
              "       [ 0.74964062, -0.53414818,  0.53020089],\n",
              "       [ 1.3247808 ,  0.65220042,  0.69210538],\n",
              "       [ 1.30289375,  1.59325531,  0.72116005],\n",
              "       [ 0.74443729,  0.92849283,  0.26626958],\n",
              "       [ 0.58891952, -0.23383257, -0.49692455],\n",
              "       [ 0.92298436, -0.02874573, -0.99880704],\n",
              "       [ 0.93926616,  0.81861554, -0.79071421],\n",
              "       [ 0.79964674,  1.01287577,  0.3471615 ],\n",
              "       [ 1.07716877,  0.4826378 ,  1.34989416],\n",
              "       [ 1.68496114,  0.00718956,  1.48204933],\n",
              "       [ 1.70512045,  0.04929559,  1.37142423],\n",
              "       [ 1.12545094,  0.41605376,  1.1610786 ],\n",
              "       [ 0.75031356,  1.00425002,  0.86884768],\n",
              "       [ 0.72543236,  1.04428525,  0.98119522],\n",
              "       [ 0.26016559,  0.29455397,  1.60559494],\n",
              "       [-0.53596403, -0.36275924,  2.05405131],\n",
              "       [-0.56552028, -0.38922647,  1.86346436],\n",
              "       [-0.31460945, -0.16706882,  1.1897049 ],\n",
              "       [-0.20869679, -0.01989162,  0.97419391],\n",
              "       [-0.09016542,  0.18454745,  0.96298858],\n",
              "       [ 0.33374901,  0.17056656,  0.32522175],\n",
              "       [ 1.11450704, -0.42818282,  0.0383451 ],\n",
              "       [ 1.43162221, -1.33389745,  0.68027647],\n",
              "       [ 1.4785976 , -1.90498814,  1.40837367],\n",
              "       [ 1.73361173, -1.50172723,  1.11523646],\n",
              "       [ 1.96874419, -0.77067719, -0.18743303],\n",
              "       [ 2.25456899, -0.26453588, -1.38289934],\n",
              "       [ 2.53945949,  0.47049322, -1.82965819]])"
            ]
          },
          "metadata": {
            "tags": []
          },
          "execution_count": 16
        }
      ]
    },
    {
      "cell_type": "code",
      "metadata": {
        "colab": {
          "base_uri": "https://localhost:8080/",
          "height": 281
        },
        "id": "4OK_0ZnJkMhw",
        "outputId": "db1f5ef2-c1b6-44c2-d60a-f81cb061442b"
      },
      "source": [
        "plt.plot(Xtrain, ytrain, 'bs', ms=8)\n",
        "plt.plot(Xtest, f_post)\n",
        "plt.gca().fill_between(Xtest.flat, mu-2*stdv, mu+2*stdv, color=\"#dddddd\")\n",
        "plt.plot(Xtest, mu, 'r--', lw=2)\n",
        "plt.axis([-5, 5, -3, 3])\n",
        "plt.title('Three samples from the GP posterior')\n",
        "plt.show()"
      ],
      "execution_count": 19,
      "outputs": [
        {
          "output_type": "display_data",
          "data": {
            "image/png": "[encoded data removed]",
            "text/plain": [
              "<Figure size 432x288 with 1 Axes>"
            ]
          },
          "metadata": {
            "tags": [],
            "needs_background": "light"
          }
        }
      ]
    },
    {
      "cell_type": "code",
      "metadata": {
        "id": "kO1UMmZ5lE_-"
      },
      "source": [
        ""
      ],
      "execution_count": null,
      "outputs": []
    }
  ]
}